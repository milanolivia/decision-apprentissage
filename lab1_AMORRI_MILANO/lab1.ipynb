{
 "cells": [
  {
   "cell_type": "markdown",
   "id": "5d33a552-5dae-4ba0-a241-bd40148c260c",
   "metadata": {},
   "source": [
    "<div style=\"background-color: rgba(255, 255, 0, 0.15); padding: 8px;\">\n",
    "Report written by AMORRI Farah, MILANO Olivia, 24/09/2025.\n",
    "</div>"
   ]
  },
  {
   "cell_type": "markdown",
   "id": "3ebf700c-86f4-4ae2-afc6-37f1769178a6",
   "metadata": {},
   "source": [
    "# Lab 1 : Linear Regression\n",
    "\n",
    "## G3 SDI - Machine Learning\n",
    "\n",
    "In this lab, we are going to implement linear regression and ridge regression on a medical data example. The data come from a medical study (Stamey et al., 1989), whose goal was to predict the level of prostate-specific antigen (`lpsa`) from some clinical measurements. These clinical exams are carried out before a possible prostatectomy.\n",
    "\n",
    "The measurements are log cancer volume `lcavol`, log prostate weight `lweight`, age of the patient `age`, log of benign prostatic hyperplasia amount `lbph`, seminal vesicle invasion `svi`, log of capsular penetration `lcp`, Gleason score `gleason`, and percent of Gleason scores 4 or 5 `pgg45`. The variable `svi` is binary, `gleason` is ordinal, others are quantitative.\n",
    "\n",
    "### Instructions\n",
    "* Rename your notebook with your surnames as `lab1_Name1_Name2.ipynb`, and include your names in the notebook.\n",
    "* Your code, and its output, must be commented !\n",
    "* Please upload your notebook on Moodle in the dedicated section before the deadline."
   ]
  },
  {
   "cell_type": "code",
   "execution_count": 2,
   "id": "f0c0b0f5-56ec-4903-bb06-a006b81a99e7",
   "metadata": {},
   "outputs": [],
   "source": [
    "# Import usual libraries\n",
    "import numpy as np\n",
    "from matplotlib import pyplot as plt"
   ]
  },
  {
   "cell_type": "markdown",
   "id": "4aa9ecdf-ff04-492c-a9c3-9e35e6617c20",
   "metadata": {},
   "source": [
    "### Part 1 - Linear regression\n",
    "\n",
    "In this first part, we focus on using linear regression."
   ]
  },
  {
   "cell_type": "markdown",
   "id": "e8db2d14-b820-4750-9c99-3699da7cd741",
   "metadata": {},
   "source": [
    "**Q1.** Load the data from the `.npy` files included in the archive (use `np.load`). How many examples are there ? How many features ?"
   ]
  },
  {
   "cell_type": "code",
   "execution_count": 3,
   "id": "bc4d0e14-3f63-41b5-83bb-ed9917c15e06",
   "metadata": {},
   "outputs": [
    {
     "name": "stdout",
     "output_type": "stream",
     "text": [
      "(97, 8)\n",
      "(97,)\n"
     ]
    }
   ],
   "source": [
    "X = np.load(\"data_X.npy\")\n",
    "y = np.load(\"data_y.npy\")\n",
    "\n",
    "print(X.shape)\n",
    "print(y.shape)"
   ]
  },
  {
   "cell_type": "markdown",
   "id": "b34c3fe2-34d4-4d3a-ac7b-fb953939258a",
   "metadata": {},
   "source": [
    "<div style=\"background-color: rgba(255, 255, 0, 0.15); padding: 8px;\">\n",
    "Your answer here\n",
    "</div>"
   ]
  },
  {
   "cell_type": "markdown",
   "id": "84819978-237f-4663-8e85-b02a377a3c14",
   "metadata": {},
   "source": [
    "**Q2.** Check whether there are some missing entries in the dataset (both in X and y). Use `np.isnan`."
   ]
  },
  {
   "cell_type": "code",
   "execution_count": 4,
   "id": "967a1c9f-abc9-4788-a984-f1da756dd7bf",
   "metadata": {},
   "outputs": [
    {
     "name": "stdout",
     "output_type": "stream",
     "text": [
      "------------------------------------------------------------------------------------------\n",
      "The number of Nan values in X is: 0\n",
      "\n",
      "\n",
      "The number of Nan values in y is: 0\n",
      "------------------------------------------------------------------------------------------\n"
     ]
    }
   ],
   "source": [
    "X_Nan = np.isnan(X)\n",
    "y_Nan = np.isnan(y)\n",
    "\n",
    "X_count_nan = np.sum(X_Nan)\n",
    "y_count_nan = np.sum(y_Nan)\n",
    "\n",
    "print(\"---\"*30)\n",
    "print(f\"The number of Nan values in X is: {X_count_nan}\")\n",
    "print(\"\\n\")\n",
    "print(f\"The number of Nan values in y is: {y_count_nan}\")\n",
    "print(\"---\"*30)\n"
   ]
  },
  {
   "cell_type": "markdown",
   "id": "f9f9be19-8e98-4fbb-8627-01b4c55fd5f9",
   "metadata": {},
   "source": [
    "<div style=\"background-color: rgba(255, 255, 0, 0.15); padding: 8px;\">\n",
    "Your answer here\n",
    "</div>"
   ]
  },
  {
   "cell_type": "markdown",
   "id": "ff9a08ba-f93f-4c42-8c89-8372ced589a1",
   "metadata": {},
   "source": [
    "**Q3.** Divide the dataset into a training set (80%) and a test set (20%), using `train_test_split` with `random_state = 0` (documentation [here](https://scikit-learn.org/stable/modules/generated/sklearn.model_selection.train_test_split.html))."
   ]
  },
  {
   "cell_type": "code",
   "execution_count": 5,
   "id": "3e6c33af-9194-443b-bc56-f8bfefceb579",
   "metadata": {},
   "outputs": [
    {
     "name": "stdout",
     "output_type": "stream",
     "text": [
      "------------------------------------------------------------------------------------------\n",
      "The number of elements in the training dataset is: 77 (expected 77.0)\n",
      "Number of associated labels: 77\n",
      "\n",
      "\n",
      "The number of elements in the testing dataset is: 20 (expected 19.0)\n",
      "Number of associated labels: 20\n",
      "------------------------------------------------------------------------------------------\n"
     ]
    }
   ],
   "source": [
    "from sklearn.model_selection import train_test_split\n",
    "\n",
    "X_train, X_test, y_train, y_test = train_test_split(X, y, train_size=0.8, test_size=0.2, random_state=0)\n",
    "\n",
    "print(\"---\"*30)\n",
    "print(f\"The number of elements in the training dataset is: {len(X_train)} (expected {np.floor(0.8*X.shape[0])})\")\n",
    "print(f\"Number of associated labels: {len(y_train)}\")\n",
    "print(\"\\n\")\n",
    "print(f\"The number of elements in the testing dataset is: {len(X_test)} (expected {np.floor(0.2*X.shape[0])})\")\n",
    "print(f\"Number of associated labels: {len(y_test)}\")\n",
    "print(\"---\"*30)"
   ]
  },
  {
   "cell_type": "markdown",
   "id": "33d4ac5c-d4f5-4f96-92ff-857308ba63d1",
   "metadata": {},
   "source": [
    "**Q4.** Standardize the training set, and apply the same operation to the test set. Use `StandardScaler` (documentation [here](https://scikit-learn.org/stable/modules/generated/sklearn.preprocessing.StandardScaler.html)). Recall what standardization means."
   ]
  },
  {
   "cell_type": "code",
   "execution_count": 6,
   "id": "4cef7e3d-e430-423c-b405-405a8d2878e3",
   "metadata": {},
   "outputs": [
    {
     "name": "stdout",
     "output_type": "stream",
     "text": [
      "------------------------------------------------------------------------------------------\n",
      "Mean of standardized training dataset (expected 0): 4.6139138685720794e-17\n",
      "Standard deviation of standardized training dataset (expected 1): 1.0\n",
      "\n",
      "\n",
      "Mean of standardized testing dataset (expected 0): -2.4424906541753446e-16\n",
      "Standard deviation of standardized testing dataset (expected 1): 1.0\n",
      "------------------------------------------------------------------------------------------\n"
     ]
    }
   ],
   "source": [
    "from sklearn.preprocessing import StandardScaler\n",
    "\n",
    "train_scaler = StandardScaler()\n",
    "test_scaler = StandardScaler()\n",
    "train_scaler = train_scaler.fit(X_train)\n",
    "test_scaler = test_scaler.fit(X_test)\n",
    "X_train_std = train_scaler.transform(X_train)\n",
    "X_test_std = test_scaler.transform(X_test)\n",
    "\n",
    "print(\"---\"*30)\n",
    "print(f\"Mean of standardized training dataset (expected 0): {np.mean(X_train_std)}\")\n",
    "print(f\"Standard deviation of standardized training dataset (expected 1): {np.std(X_train_std)}\")\n",
    "print(\"\\n\")\n",
    "print(f\"Mean of standardized testing dataset (expected 0): {np.mean(X_test_std)}\")\n",
    "print(f\"Standard deviation of standardized testing dataset (expected 1): {np.std(X_test_std)}\")\n",
    "print(\"---\"*30)\n"
   ]
  },
  {
   "cell_type": "markdown",
   "id": "d0a525c1-b82f-48cd-a203-500eafa19153",
   "metadata": {},
   "source": [
    "<div style=\"background-color: rgba(255, 255, 0, 0.15); padding: 8px;\">\n",
    "Your answer here\n",
    "</div>"
   ]
  },
  {
   "cell_type": "markdown",
   "id": "dd735cca-aa9c-4907-8620-63e5ae450132",
   "metadata": {},
   "source": [
    "**Q5.** Compute the auto-covariance matrix from the training set, and display it (you might want to use `plt.imshow`). What can we learn from this ?"
   ]
  },
  {
   "cell_type": "code",
   "execution_count": 7,
   "id": "0f3b96d5-98db-4b47-b008-91d6066236c1",
   "metadata": {},
   "outputs": [
    {
     "data": {
      "application/vnd.plotly.v1+json": {
       "config": {
        "plotlyServerURL": "https://plot.ly"
       },
       "data": [
        {
         "coloraxis": "coloraxis",
         "hovertemplate": "X axis: %{x}<br>Y axis: %{y}<br>Value: %{z}<extra></extra>",
         "name": "0",
         "type": "heatmap",
         "xaxis": "x",
         "yaxis": "y",
         "z": {
          "bdata": "YEN5DeU18D9sqBw6vufUP7yQTdeC19E/Vricv9iwab/PfIKVI2TiPwLIULhgI+Y/0dmj3p8S2j9lZSkLy8TbP2yoHDq+59Q/YUN5DeU18D8BDPF6I4vbP37iuMGX8Nw/mwXPg6xUxz8d1qUCE5vEP5uoOWiXdbY/PvGvy3ItvT+8kE3XgtfRPwEM8Xoji9s/XUN5DeU18D+jXwoVJanXP1BvGwLvsrc/AVi9knQNwj/RoN/Qpx7QP8LrBdhkT9A/Vricv9iwab9+4rjBl/DcP6NfChUlqdc/XEN5DeU18D+MnFWKiHSzvyu1i2Gsaq2/NxqypclCtD+I3MFsQY2xP898gpUjZOI/mwXPg6xUxz9QbxsC77K3P4ycVYqIdLO/W0N5DeU18D+hz1i6KMnmPzgtdOyZ4dQ/PmK7o85m3T8CyFC4YCPmPx3WpQITm8Q/AVi9knQNwj8rtYthrGqtv6HPWLooyeY/XUN5DeU18D/wyTsuufXgPy2nkJLHXOM/0dmj3p8S2j+bqDlol3W2P9Gg39CnHtA/NxqypclCtD84LXTsmeHUP/DJOy659eA/YUN5DeU18D/oTgk9REDpP2VlKQvLxNs/PvGvy3ItvT/C6wXYZE/QP4jcwWxBjbE/PmK7o85m3T8tp5CSx1zjP+hOCT1EQOk/W0N5DeU18D8=",
          "dtype": "f8",
          "shape": "8, 8"
         }
        }
       ],
       "layout": {
        "coloraxis": {
         "colorbar": {
          "title": {
           "text": "Value"
          }
         },
         "colorscale": [
          [
           0,
           "#0d0887"
          ],
          [
           0.1111111111111111,
           "#46039f"
          ],
          [
           0.2222222222222222,
           "#7201a8"
          ],
          [
           0.3333333333333333,
           "#9c179e"
          ],
          [
           0.4444444444444444,
           "#bd3786"
          ],
          [
           0.5555555555555556,
           "#d8576b"
          ],
          [
           0.6666666666666666,
           "#ed7953"
          ],
          [
           0.7777777777777778,
           "#fb9f3a"
          ],
          [
           0.8888888888888888,
           "#fdca26"
          ],
          [
           1,
           "#f0f921"
          ]
         ]
        },
        "margin": {
         "t": 60
        },
        "template": {
         "data": {
          "bar": [
           {
            "error_x": {
             "color": "#2a3f5f"
            },
            "error_y": {
             "color": "#2a3f5f"
            },
            "marker": {
             "line": {
              "color": "#E5ECF6",
              "width": 0.5
             },
             "pattern": {
              "fillmode": "overlay",
              "size": 10,
              "solidity": 0.2
             }
            },
            "type": "bar"
           }
          ],
          "barpolar": [
           {
            "marker": {
             "line": {
              "color": "#E5ECF6",
              "width": 0.5
             },
             "pattern": {
              "fillmode": "overlay",
              "size": 10,
              "solidity": 0.2
             }
            },
            "type": "barpolar"
           }
          ],
          "carpet": [
           {
            "aaxis": {
             "endlinecolor": "#2a3f5f",
             "gridcolor": "white",
             "linecolor": "white",
             "minorgridcolor": "white",
             "startlinecolor": "#2a3f5f"
            },
            "baxis": {
             "endlinecolor": "#2a3f5f",
             "gridcolor": "white",
             "linecolor": "white",
             "minorgridcolor": "white",
             "startlinecolor": "#2a3f5f"
            },
            "type": "carpet"
           }
          ],
          "choropleth": [
           {
            "colorbar": {
             "outlinewidth": 0,
             "ticks": ""
            },
            "type": "choropleth"
           }
          ],
          "contour": [
           {
            "colorbar": {
             "outlinewidth": 0,
             "ticks": ""
            },
            "colorscale": [
             [
              0,
              "#0d0887"
             ],
             [
              0.1111111111111111,
              "#46039f"
             ],
             [
              0.2222222222222222,
              "#7201a8"
             ],
             [
              0.3333333333333333,
              "#9c179e"
             ],
             [
              0.4444444444444444,
              "#bd3786"
             ],
             [
              0.5555555555555556,
              "#d8576b"
             ],
             [
              0.6666666666666666,
              "#ed7953"
             ],
             [
              0.7777777777777778,
              "#fb9f3a"
             ],
             [
              0.8888888888888888,
              "#fdca26"
             ],
             [
              1,
              "#f0f921"
             ]
            ],
            "type": "contour"
           }
          ],
          "contourcarpet": [
           {
            "colorbar": {
             "outlinewidth": 0,
             "ticks": ""
            },
            "type": "contourcarpet"
           }
          ],
          "heatmap": [
           {
            "colorbar": {
             "outlinewidth": 0,
             "ticks": ""
            },
            "colorscale": [
             [
              0,
              "#0d0887"
             ],
             [
              0.1111111111111111,
              "#46039f"
             ],
             [
              0.2222222222222222,
              "#7201a8"
             ],
             [
              0.3333333333333333,
              "#9c179e"
             ],
             [
              0.4444444444444444,
              "#bd3786"
             ],
             [
              0.5555555555555556,
              "#d8576b"
             ],
             [
              0.6666666666666666,
              "#ed7953"
             ],
             [
              0.7777777777777778,
              "#fb9f3a"
             ],
             [
              0.8888888888888888,
              "#fdca26"
             ],
             [
              1,
              "#f0f921"
             ]
            ],
            "type": "heatmap"
           }
          ],
          "histogram": [
           {
            "marker": {
             "pattern": {
              "fillmode": "overlay",
              "size": 10,
              "solidity": 0.2
             }
            },
            "type": "histogram"
           }
          ],
          "histogram2d": [
           {
            "colorbar": {
             "outlinewidth": 0,
             "ticks": ""
            },
            "colorscale": [
             [
              0,
              "#0d0887"
             ],
             [
              0.1111111111111111,
              "#46039f"
             ],
             [
              0.2222222222222222,
              "#7201a8"
             ],
             [
              0.3333333333333333,
              "#9c179e"
             ],
             [
              0.4444444444444444,
              "#bd3786"
             ],
             [
              0.5555555555555556,
              "#d8576b"
             ],
             [
              0.6666666666666666,
              "#ed7953"
             ],
             [
              0.7777777777777778,
              "#fb9f3a"
             ],
             [
              0.8888888888888888,
              "#fdca26"
             ],
             [
              1,
              "#f0f921"
             ]
            ],
            "type": "histogram2d"
           }
          ],
          "histogram2dcontour": [
           {
            "colorbar": {
             "outlinewidth": 0,
             "ticks": ""
            },
            "colorscale": [
             [
              0,
              "#0d0887"
             ],
             [
              0.1111111111111111,
              "#46039f"
             ],
             [
              0.2222222222222222,
              "#7201a8"
             ],
             [
              0.3333333333333333,
              "#9c179e"
             ],
             [
              0.4444444444444444,
              "#bd3786"
             ],
             [
              0.5555555555555556,
              "#d8576b"
             ],
             [
              0.6666666666666666,
              "#ed7953"
             ],
             [
              0.7777777777777778,
              "#fb9f3a"
             ],
             [
              0.8888888888888888,
              "#fdca26"
             ],
             [
              1,
              "#f0f921"
             ]
            ],
            "type": "histogram2dcontour"
           }
          ],
          "mesh3d": [
           {
            "colorbar": {
             "outlinewidth": 0,
             "ticks": ""
            },
            "type": "mesh3d"
           }
          ],
          "parcoords": [
           {
            "line": {
             "colorbar": {
              "outlinewidth": 0,
              "ticks": ""
             }
            },
            "type": "parcoords"
           }
          ],
          "pie": [
           {
            "automargin": true,
            "type": "pie"
           }
          ],
          "scatter": [
           {
            "fillpattern": {
             "fillmode": "overlay",
             "size": 10,
             "solidity": 0.2
            },
            "type": "scatter"
           }
          ],
          "scatter3d": [
           {
            "line": {
             "colorbar": {
              "outlinewidth": 0,
              "ticks": ""
             }
            },
            "marker": {
             "colorbar": {
              "outlinewidth": 0,
              "ticks": ""
             }
            },
            "type": "scatter3d"
           }
          ],
          "scattercarpet": [
           {
            "marker": {
             "colorbar": {
              "outlinewidth": 0,
              "ticks": ""
             }
            },
            "type": "scattercarpet"
           }
          ],
          "scattergeo": [
           {
            "marker": {
             "colorbar": {
              "outlinewidth": 0,
              "ticks": ""
             }
            },
            "type": "scattergeo"
           }
          ],
          "scattergl": [
           {
            "marker": {
             "colorbar": {
              "outlinewidth": 0,
              "ticks": ""
             }
            },
            "type": "scattergl"
           }
          ],
          "scattermap": [
           {
            "marker": {
             "colorbar": {
              "outlinewidth": 0,
              "ticks": ""
             }
            },
            "type": "scattermap"
           }
          ],
          "scattermapbox": [
           {
            "marker": {
             "colorbar": {
              "outlinewidth": 0,
              "ticks": ""
             }
            },
            "type": "scattermapbox"
           }
          ],
          "scatterpolar": [
           {
            "marker": {
             "colorbar": {
              "outlinewidth": 0,
              "ticks": ""
             }
            },
            "type": "scatterpolar"
           }
          ],
          "scatterpolargl": [
           {
            "marker": {
             "colorbar": {
              "outlinewidth": 0,
              "ticks": ""
             }
            },
            "type": "scatterpolargl"
           }
          ],
          "scatterternary": [
           {
            "marker": {
             "colorbar": {
              "outlinewidth": 0,
              "ticks": ""
             }
            },
            "type": "scatterternary"
           }
          ],
          "surface": [
           {
            "colorbar": {
             "outlinewidth": 0,
             "ticks": ""
            },
            "colorscale": [
             [
              0,
              "#0d0887"
             ],
             [
              0.1111111111111111,
              "#46039f"
             ],
             [
              0.2222222222222222,
              "#7201a8"
             ],
             [
              0.3333333333333333,
              "#9c179e"
             ],
             [
              0.4444444444444444,
              "#bd3786"
             ],
             [
              0.5555555555555556,
              "#d8576b"
             ],
             [
              0.6666666666666666,
              "#ed7953"
             ],
             [
              0.7777777777777778,
              "#fb9f3a"
             ],
             [
              0.8888888888888888,
              "#fdca26"
             ],
             [
              1,
              "#f0f921"
             ]
            ],
            "type": "surface"
           }
          ],
          "table": [
           {
            "cells": {
             "fill": {
              "color": "#EBF0F8"
             },
             "line": {
              "color": "white"
             }
            },
            "header": {
             "fill": {
              "color": "#C8D4E3"
             },
             "line": {
              "color": "white"
             }
            },
            "type": "table"
           }
          ]
         },
         "layout": {
          "annotationdefaults": {
           "arrowcolor": "#2a3f5f",
           "arrowhead": 0,
           "arrowwidth": 1
          },
          "autotypenumbers": "strict",
          "coloraxis": {
           "colorbar": {
            "outlinewidth": 0,
            "ticks": ""
           }
          },
          "colorscale": {
           "diverging": [
            [
             0,
             "#8e0152"
            ],
            [
             0.1,
             "#c51b7d"
            ],
            [
             0.2,
             "#de77ae"
            ],
            [
             0.3,
             "#f1b6da"
            ],
            [
             0.4,
             "#fde0ef"
            ],
            [
             0.5,
             "#f7f7f7"
            ],
            [
             0.6,
             "#e6f5d0"
            ],
            [
             0.7,
             "#b8e186"
            ],
            [
             0.8,
             "#7fbc41"
            ],
            [
             0.9,
             "#4d9221"
            ],
            [
             1,
             "#276419"
            ]
           ],
           "sequential": [
            [
             0,
             "#0d0887"
            ],
            [
             0.1111111111111111,
             "#46039f"
            ],
            [
             0.2222222222222222,
             "#7201a8"
            ],
            [
             0.3333333333333333,
             "#9c179e"
            ],
            [
             0.4444444444444444,
             "#bd3786"
            ],
            [
             0.5555555555555556,
             "#d8576b"
            ],
            [
             0.6666666666666666,
             "#ed7953"
            ],
            [
             0.7777777777777778,
             "#fb9f3a"
            ],
            [
             0.8888888888888888,
             "#fdca26"
            ],
            [
             1,
             "#f0f921"
            ]
           ],
           "sequentialminus": [
            [
             0,
             "#0d0887"
            ],
            [
             0.1111111111111111,
             "#46039f"
            ],
            [
             0.2222222222222222,
             "#7201a8"
            ],
            [
             0.3333333333333333,
             "#9c179e"
            ],
            [
             0.4444444444444444,
             "#bd3786"
            ],
            [
             0.5555555555555556,
             "#d8576b"
            ],
            [
             0.6666666666666666,
             "#ed7953"
            ],
            [
             0.7777777777777778,
             "#fb9f3a"
            ],
            [
             0.8888888888888888,
             "#fdca26"
            ],
            [
             1,
             "#f0f921"
            ]
           ]
          },
          "colorway": [
           "#636efa",
           "#EF553B",
           "#00cc96",
           "#ab63fa",
           "#FFA15A",
           "#19d3f3",
           "#FF6692",
           "#B6E880",
           "#FF97FF",
           "#FECB52"
          ],
          "font": {
           "color": "#2a3f5f"
          },
          "geo": {
           "bgcolor": "white",
           "lakecolor": "white",
           "landcolor": "#E5ECF6",
           "showlakes": true,
           "showland": true,
           "subunitcolor": "white"
          },
          "hoverlabel": {
           "align": "left"
          },
          "hovermode": "closest",
          "mapbox": {
           "style": "light"
          },
          "paper_bgcolor": "white",
          "plot_bgcolor": "#E5ECF6",
          "polar": {
           "angularaxis": {
            "gridcolor": "white",
            "linecolor": "white",
            "ticks": ""
           },
           "bgcolor": "#E5ECF6",
           "radialaxis": {
            "gridcolor": "white",
            "linecolor": "white",
            "ticks": ""
           }
          },
          "scene": {
           "xaxis": {
            "backgroundcolor": "#E5ECF6",
            "gridcolor": "white",
            "gridwidth": 2,
            "linecolor": "white",
            "showbackground": true,
            "ticks": "",
            "zerolinecolor": "white"
           },
           "yaxis": {
            "backgroundcolor": "#E5ECF6",
            "gridcolor": "white",
            "gridwidth": 2,
            "linecolor": "white",
            "showbackground": true,
            "ticks": "",
            "zerolinecolor": "white"
           },
           "zaxis": {
            "backgroundcolor": "#E5ECF6",
            "gridcolor": "white",
            "gridwidth": 2,
            "linecolor": "white",
            "showbackground": true,
            "ticks": "",
            "zerolinecolor": "white"
           }
          },
          "shapedefaults": {
           "line": {
            "color": "#2a3f5f"
           }
          },
          "ternary": {
           "aaxis": {
            "gridcolor": "white",
            "linecolor": "white",
            "ticks": ""
           },
           "baxis": {
            "gridcolor": "white",
            "linecolor": "white",
            "ticks": ""
           },
           "bgcolor": "#E5ECF6",
           "caxis": {
            "gridcolor": "white",
            "linecolor": "white",
            "ticks": ""
           }
          },
          "title": {
           "x": 0.05
          },
          "xaxis": {
           "automargin": true,
           "gridcolor": "white",
           "linecolor": "white",
           "ticks": "",
           "title": {
            "standoff": 15
           },
           "zerolinecolor": "white",
           "zerolinewidth": 2
          },
          "yaxis": {
           "automargin": true,
           "gridcolor": "white",
           "linecolor": "white",
           "ticks": "",
           "title": {
            "standoff": 15
           },
           "zerolinecolor": "white",
           "zerolinewidth": 2
          }
         }
        },
        "title": {
         "text": "Auto-covariance matrix (Training set)"
        },
        "xaxis": {
         "anchor": "y",
         "constrain": "domain",
         "domain": [
          0,
          1
         ],
         "scaleanchor": "y",
         "title": {
          "text": "X axis"
         }
        },
        "yaxis": {
         "anchor": "x",
         "autorange": "reversed",
         "constrain": "domain",
         "domain": [
          0,
          1
         ],
         "title": {
          "text": "Y axis"
         }
        }
       }
      }
     },
     "metadata": {},
     "output_type": "display_data"
    }
   ],
   "source": [
    "\n",
    "cov_matrix = np.cov(X_train_std, rowvar=False)\n",
    "\n",
    "# import matplotlib.pyplot as plt\n",
    "# plt.title(\"Auto-covariance matrix (Training set)\")\n",
    "# plt.imshow(cov_matrix)\n",
    "# plt.show()\n",
    "\n",
    "import plotly.express as px\n",
    "\n",
    "fig = px.imshow(cov_matrix, labels={'x':'X axis', 'y':'Y axis', 'color':'Value'})\n",
    "fig.update_layout(title=\"Auto-covariance matrix (Training set)\")\n",
    "fig.show()"
   ]
  },
  {
   "cell_type": "markdown",
   "id": "06352edf-7199-4cc7-9137-1f357e9167fd",
   "metadata": {},
   "source": [
    "<div style=\"background-color: rgba(255, 255, 0, 0.15); padding: 8px;\">\n",
    "Your answer here\n",
    "</div>"
   ]
  },
  {
   "cell_type": "markdown",
   "id": "49ea3dbd-24a6-47b1-b068-7cf62c8b1035",
   "metadata": {},
   "source": [
    "**Q6.** We are now going to train the linear regression model using scikit-learn (check the documentation [here](https://scikit-learn.org/stable/modules/generated/sklearn.linear_model.LinearRegression.html)). Use the `.fit` method on the training set. Retrieve the coefficients obtained by scikit-learn using the attributes `.intercept_` and `.coef_`, and check that it corresponds to the closed-form solution from the lecture (you might want to use `np.hstack` to concatenate X with a column of ones)."
   ]
  },
  {
   "cell_type": "code",
   "execution_count": 8,
   "id": "1ecd7a79-06f3-4aca-8f99-95f386d82a04",
   "metadata": {},
   "outputs": [
    {
     "name": "stdout",
     "output_type": "stream",
     "text": [
      "The score on the test set is: 68.02%\n",
      "[ 0.10048321 -0.28181038 -0.17133931  0.05157284 -0.44557235 -0.06653062\n",
      " -0.03227848  0.05898719]\n",
      "2.2767493462080597\n"
     ]
    }
   ],
   "source": [
    "from sklearn.linear_model import LinearRegression\n",
    "\n",
    "reg = LinearRegression().fit(X_train_std, y_train)\n",
    "\n",
    "coefficients = reg.coef_\n",
    "interception = reg.intercept_\n",
    "score = reg.score(X_train_std, y_train)\n",
    "\n",
    "\n",
    "print(f\"The score on the test set is: {score:.2%}\")\n",
    "\n",
    "X_augmented = np.hstack([np.ones((X_train.shape[0], 1)), X_train])\n",
    "\n",
    "beta_hat = np.linalg.inv(X_augmented.T @ X_augmented) @ X_augmented.T @ y_train\n",
    "\n",
    "intercept_closed = beta_hat[0]\n",
    "coefficients_closed = beta_hat[1:]\n",
    "\n",
    "print(coefficients-coefficients_closed)\n",
    "print(interception-intercept_closed)\n",
    "\n",
    "\n"
   ]
  },
  {
   "cell_type": "markdown",
   "id": "cbee30d0-b308-45b3-a066-b193c2706622",
   "metadata": {},
   "source": [
    "<div style=\"background-color: rgba(255, 255, 0, 0.15); padding: 8px;\">\n",
    "Your answer here\n",
    "</div>"
   ]
  },
  {
   "cell_type": "markdown",
   "id": "39f29c19-841a-494f-b3ba-7547b341ac52",
   "metadata": {},
   "source": [
    "**Q7.** Obtain the model predictions on the test set using the `.predict` method. Then compute the MSE and the MAE (you may want to use the functions below)."
   ]
  },
  {
   "cell_type": "code",
   "execution_count": 10,
   "id": "3599f8b1-d957-4712-8606-1b3248020c23",
   "metadata": {},
   "outputs": [
    {
     "name": "stdout",
     "output_type": "stream",
     "text": [
      "MAE  : 0.6262\n",
      "MSE  : 0.5604\n"
     ]
    }
   ],
   "source": [
    "from sklearn.metrics import mean_absolute_error, mean_squared_error\n",
    "\n",
    "predictions = reg.predict(X_test_std)\n",
    "\n",
    "# calcul des métriques\n",
    "mae = mean_absolute_error(y_test, predictions)\n",
    "mse = mean_squared_error(y_test, predictions)\n",
    "\n",
    "\n",
    "print(f\"MAE  : {mae:.4f}\")\n",
    "print(f\"MSE  : {mse:.4f}\")\n"
   ]
  },
  {
   "cell_type": "markdown",
   "id": "b41eade5-9d64-4277-83dc-f31e3d9d325f",
   "metadata": {},
   "source": [
    "### Part 2 - Ridge regression\n",
    "\n",
    "In this second part, we now turn to ridge regression."
   ]
  },
  {
   "cell_type": "markdown",
   "id": "ee7a40b9-bcf3-47cd-8e2b-64bb3ba65209",
   "metadata": {},
   "source": [
    "**Q1.** Fit the ridge regression model (documentation [here](https://scikit-learn.org/stable/modules/generated/sklearn.linear_model.Ridge.html)) with $\\lambda = 1$, using the `.fit` method on the training set. Again, retrieve the coefficients, and check that they match with the closed-form solution from the lecture. How do they differ from the ones obtained with linear regression ?"
   ]
  },
  {
   "cell_type": "code",
   "execution_count": null,
   "id": "00c074f0-2779-448f-a9db-eedc9d56d2d3",
   "metadata": {},
   "outputs": [
    {
     "name": "stdout",
     "output_type": "stream",
     "text": [
      "Intercept (ridge): 2.5333575454545456\n",
      "Coefficients (ridge): [ 0.74219288  0.21604499 -0.18971641  0.16549832  0.32885721 -0.20975118\n",
      "  0.102791    0.05942405]\n"
     ]
    }
   ],
   "source": [
    "from sklearn.linear_model import Ridge\n",
    "\n",
    "ridge_reg = Ridge(alpha=1)\n",
    "ridge_reg.fit(X_train_std, y_train)\n",
    "coef_ridge = ridge_reg.coef_\n",
    "intercept_ridge = ridge_reg.intercept_\n",
    "\n",
    "print(\"Intercept (ridge):\", intercept_ridge)\n",
    "print(\"Coefficients (ridge):\", coef_ridge)\n",
    "\n",
    "#TODO compare with the closed form solution from the lecture "
   ]
  },
  {
   "cell_type": "markdown",
   "id": "36dc8f46-43fa-401d-9b48-c26a589fde8c",
   "metadata": {},
   "source": [
    "<div style=\"background-color: rgba(255, 255, 0, 0.15); padding: 8px;\">\n",
    "Your answer here\n",
    "</div>"
   ]
  },
  {
   "cell_type": "markdown",
   "id": "049c06fc-d4f4-4543-af2f-2d28b6d48803",
   "metadata": {},
   "source": [
    "**Q2.** Obtain the model predictions on the test set using the `.predict` method, then compute the MSE and the MAE. Do we get better or worse predictions than before ? Comment."
   ]
  },
  {
   "cell_type": "code",
   "execution_count": 12,
   "id": "5916902e-7ed5-42df-80e7-e60575b53fee",
   "metadata": {},
   "outputs": [
    {
     "name": "stdout",
     "output_type": "stream",
     "text": [
      "MSE (Ridge): 0.5467\n",
      "MAE (Ridge): 0.6231\n"
     ]
    }
   ],
   "source": [
    "y_pred_ridge = ridge_reg.predict(X_test_std)\n",
    "\n",
    "\n",
    "mse_ridge = mean_squared_error(y_test, y_pred_ridge)\n",
    "mae_ridge = mean_absolute_error(y_test, y_pred_ridge)\n",
    "\n",
    "print(f\"MSE (Ridge): {mse_ridge:.4f}\")\n",
    "print(f\"MAE (Ridge): {mae_ridge:.4f}\")"
   ]
  },
  {
   "cell_type": "markdown",
   "id": "efff0745-c7d6-4d8c-b1d7-922b7094c390",
   "metadata": {},
   "source": [
    "<div style=\"background-color: rgba(255, 255, 0, 0.15); padding: 8px;\">\n",
    "Your answer here\n",
    "</div>"
   ]
  },
  {
   "cell_type": "markdown",
   "id": "fa963d1e-7f4a-4d4c-adf2-46641b2ba024",
   "metadata": {},
   "source": [
    "**Q3.** We are now going to assess the impact of the regularization coefficient $\\lambda$.\n",
    "\n",
    "To do so, vary $\\lambda$ from $10^{-3}$ and $10^3$ (use `np.logspace`), and for each value of $\\lambda$, retrain the ridge regression model and keep the values of the coefficients (ignoring the intercept).\n",
    "\n",
    "Display the evolution of the coefficients w.r.t. $\\lambda$ (use a logarithmic scale for the x-axis). Comment."
   ]
  },
  {
   "cell_type": "code",
   "execution_count": 13,
   "id": "67584cb5-cc00-4e03-9ace-3f39fc22dd16",
   "metadata": {},
   "outputs": [
    {
     "data": {
      "image/png": "[encoded data removed]",
      "text/plain": [
       "<Figure size 800x600 with 1 Axes>"
      ]
     },
     "metadata": {},
     "output_type": "display_data"
    }
   ],
   "source": [
    "lambdas = np.logspace(-3, 3, 100)\n",
    "\n",
    "coefs = []\n",
    "\n",
    "for l in lambdas:\n",
    "    ridge = Ridge(alpha=l)\n",
    "    ridge.fit(X_train_std, y_train)\n",
    "    coefs.append(ridge.coef_)\n",
    "\n",
    "coefs = np.array(coefs)\n",
    "\n",
    "plt.figure(figsize=(8,6))\n",
    "for i in range(coefs.shape[1]):   # chaque feature\n",
    "    plt.plot(lambdas, coefs[:, i], label=f\"Feature {i}\")\n",
    "\n",
    "plt.xscale(\"log\")  # échelle log sur l’axe des x\n",
    "plt.xlabel(\"λ (regularization strength)\")\n",
    "plt.ylabel(\"Coefficient values\")\n",
    "plt.title(\"Evolution of Ridge coefficients vs λ\")\n",
    "plt.axhline(0, color='black', linewidth=0.8, linestyle=\"--\")\n",
    "plt.legend(loc=\"best\", bbox_to_anchor=(1.05,1))\n",
    "plt.show()"
   ]
  },
  {
   "cell_type": "markdown",
   "id": "df90a701-e6ba-4fdf-b69c-918e16b45d7f",
   "metadata": {},
   "source": [
    "<div style=\"background-color: rgba(255, 255, 0, 0.15); padding: 8px;\">\n",
    "Your answer here\n",
    "</div>"
   ]
  },
  {
   "cell_type": "markdown",
   "id": "9d2367f4-f5d5-43ba-be06-ec8f0fca2df0",
   "metadata": {},
   "source": [
    "**Q4.** Now remains the question of choosing the optimal $\\lambda$. We are going to select it with a 5-fold cross-validation.\n",
    "\n",
    "Display the evolution of the cross-validated MSE w.r.t. $\\lambda$ (use again a logarithmic scale for the x-axis), and display the best $\\lambda$ with a `plt.axvline`.\n",
    "\n",
    "Now retrain the ridge regression model with the selected $\\lambda$, and assess its performance in terms of MSE and MAE. Comment."
   ]
  },
  {
   "cell_type": "code",
   "execution_count": 15,
   "id": "7b70367a-2310-482f-8cf6-85daaa2d6231",
   "metadata": {},
   "outputs": [
    {
     "name": "stdout",
     "output_type": "stream",
     "text": [
      "Best λ: 2.848035868435802\n"
     ]
    },
    {
     "data": {
      "image/png": "[encoded data removed]",
      "text/plain": [
       "<Figure size 800x600 with 1 Axes>"
      ]
     },
     "metadata": {},
     "output_type": "display_data"
    },
    {
     "name": "stdout",
     "output_type": "stream",
     "text": [
      "Test MSE (ridge, best λ): 0.5264\n",
      "Test MAE (ridge, best λ): 0.6181\n"
     ]
    }
   ],
   "source": [
    "from sklearn.model_selection import KFold\n",
    "\n",
    "# Set-up cross-validation\n",
    "kf = KFold(n_splits=5)\n",
    "\n",
    "# for train_index, val_index in kf.split(X_train):\n",
    "#     X_train_new, X_val = X_train[train_index], X_train[val_index]\n",
    "#     y_train_new, y_val = y_train[train_index], y_train[val_index]\n",
    "\n",
    "mse_means = []\n",
    "\n",
    "for l in lambdas:\n",
    "    mse_folds = []\n",
    "    for train_index, val_index in kf.split(X_train_std):\n",
    "        X_train_new, X_val = X_train_std[train_index], X_train_std[val_index]\n",
    "        y_train_new, y_val = y_train[train_index], y_train[val_index]\n",
    "\n",
    "        ridge = Ridge(alpha=l)\n",
    "        ridge.fit(X_train_new, y_train_new)\n",
    "        y_val_pred = ridge.predict(X_val)\n",
    "\n",
    "        mse_folds.append(mean_squared_error(y_val, y_val_pred))\n",
    "\n",
    "    # moyenne des MSE sur les folds\n",
    "    mse_means.append(np.mean(mse_folds))\n",
    "\n",
    "mse_means = np.array(mse_means)\n",
    "\n",
    "# Trouver le λ optimal\n",
    "best_lambda = lambdas[np.argmin(mse_means)]\n",
    "print(\"Best λ:\", best_lambda)\n",
    "\n",
    "# Tracer la courbe MSE vs λ\n",
    "plt.figure(figsize=(8,6))\n",
    "plt.plot(lambdas, mse_means, marker=\"o\")\n",
    "plt.xscale(\"log\")\n",
    "plt.xlabel(\"λ (regularization strength)\")\n",
    "plt.ylabel(\"Cross-validated MSE\")\n",
    "plt.title(\"Ridge CV: MSE vs λ\")\n",
    "plt.axvline(best_lambda, color=\"red\", linestyle=\"--\", label=f\"Best λ = {best_lambda:.4f}\")\n",
    "plt.legend()\n",
    "plt.show()\n",
    "\n",
    "# Réentraîner avec le meilleur λ sur tout le train set\n",
    "ridge_best = Ridge(alpha=best_lambda)\n",
    "ridge_best.fit(X_train_std, y_train)\n",
    "\n",
    "# Évaluer sur le test set\n",
    "y_test_pred = ridge_best.predict(X_test_std)\n",
    "mse_test = mean_squared_error(y_test, y_test_pred)\n",
    "mae_test = mean_absolute_error(y_test, y_test_pred)\n",
    "\n",
    "print(f\"Test MSE (ridge, best λ): {mse_test:.4f}\")\n",
    "print(f\"Test MAE (ridge, best λ): {mae_test:.4f}\")\n",
    "    "
   ]
  },
  {
   "cell_type": "markdown",
   "id": "693bc54d-961e-451f-8863-5bf83b7f72e3",
   "metadata": {},
   "source": [
    "### Part 3 (Bonus) - LASSO\n",
    "\n",
    "Display the same kind of plots as in Part 2, but using LASSO regression instead of ridge regression (see [here](https://scikit-learn.org/stable/modules/generated/sklearn.linear_model.Lasso.html). In particular, comment on the following points :\n",
    "* Do the regression coefficients evolve in the same way as ridge regression ? What kind of solutions do we obtain ?\n",
    "* Do we get the same optimal lambda ?"
   ]
  },
  {
   "cell_type": "code",
   "execution_count": 16,
   "id": "7061e7d3-5499-4692-bc5a-d0787f7a9f37",
   "metadata": {},
   "outputs": [
    {
     "data": {
      "image/png": "[encoded data removed]",
      "text/plain": [
       "<Figure size 800x600 with 1 Axes>"
      ]
     },
     "metadata": {},
     "output_type": "display_data"
    }
   ],
   "source": [
    "import numpy as np\n",
    "import matplotlib.pyplot as plt\n",
    "from sklearn.linear_model import Lasso\n",
    "from sklearn.metrics import mean_squared_error, mean_absolute_error\n",
    "from sklearn.model_selection import KFold\n",
    "\n",
    "# Grille de λ\n",
    "lambdas = np.logspace(-3, 3, 50)\n",
    "\n",
    "# Stocker les coefficients\n",
    "coefs_lasso = []\n",
    "\n",
    "for l in lambdas:\n",
    "    lasso = Lasso(alpha=l, max_iter=10000)  # max_iter ↑ pour convergence\n",
    "    lasso.fit(X_train_std, y_train)\n",
    "    coefs_lasso.append(lasso.coef_)\n",
    "\n",
    "coefs_lasso = np.array(coefs_lasso)\n",
    "\n",
    "# Tracer l’évolution des coefficients\n",
    "plt.figure(figsize=(8,6))\n",
    "for i in range(coefs_lasso.shape[1]):\n",
    "    plt.plot(lambdas, coefs_lasso[:, i], label=f\"Feature {i}\")\n",
    "\n",
    "plt.xscale(\"log\")\n",
    "plt.xlabel(\"λ (regularization strength)\")\n",
    "plt.ylabel(\"Coefficient values\")\n",
    "plt.title(\"Evolution of LASSO coefficients vs λ\")\n",
    "plt.axhline(0, color=\"black\", linewidth=0.8, linestyle=\"--\")\n",
    "plt.legend(loc=\"best\", bbox_to_anchor=(1.05,1))\n",
    "plt.show()\n"
   ]
  },
  {
   "cell_type": "code",
   "execution_count": 17,
   "id": "23f6f71e",
   "metadata": {},
   "outputs": [
    {
     "name": "stdout",
     "output_type": "stream",
     "text": [
      "Best λ (LASSO): 0.0517947467923121\n"
     ]
    },
    {
     "data": {
      "image/png": "[encoded data removed]",
      "text/plain": [
       "<Figure size 800x600 with 1 Axes>"
      ]
     },
     "metadata": {},
     "output_type": "display_data"
    },
    {
     "name": "stdout",
     "output_type": "stream",
     "text": [
      "Test MSE (lasso, best λ): 0.5002\n",
      "Test MAE (lasso, best λ): 0.6025\n"
     ]
    }
   ],
   "source": [
    "kf = KFold(n_splits=5, shuffle=True, random_state=42)\n",
    "mse_means_lasso = []\n",
    "\n",
    "for l in lambdas:\n",
    "    mse_folds = []\n",
    "    for train_index, val_index in kf.split(X_train_std):\n",
    "        X_train_new, X_val = X_train_std[train_index], X_train_std[val_index]\n",
    "        y_train_new, y_val = y_train[train_index], y_train[val_index]\n",
    "\n",
    "        lasso = Lasso(alpha=l, max_iter=10000)\n",
    "        lasso.fit(X_train_new, y_train_new)\n",
    "        y_val_pred = lasso.predict(X_val)\n",
    "\n",
    "        mse_folds.append(mean_squared_error(y_val, y_val_pred))\n",
    "\n",
    "    mse_means_lasso.append(np.mean(mse_folds))\n",
    "\n",
    "mse_means_lasso = np.array(mse_means_lasso)\n",
    "\n",
    "best_lambda_lasso = lambdas[np.argmin(mse_means_lasso)]\n",
    "print(\"Best λ (LASSO):\", best_lambda_lasso)\n",
    "\n",
    "plt.figure(figsize=(8,6))\n",
    "plt.plot(lambdas, mse_means_lasso, marker=\"o\")\n",
    "plt.xscale(\"log\")\n",
    "plt.xlabel(\"λ (regularization strength)\")\n",
    "plt.ylabel(\"Cross-validated MSE\")\n",
    "plt.title(\"LASSO CV: MSE vs λ\")\n",
    "plt.axvline(best_lambda_lasso, color=\"red\", linestyle=\"--\", label=f\"Best λ = {best_lambda_lasso:.4f}\")\n",
    "plt.legend()\n",
    "plt.show()\n",
    "\n",
    "# Réentraîner avec le meilleur λ\n",
    "lasso_best = Lasso(alpha=best_lambda_lasso, max_iter=10000)\n",
    "lasso_best.fit(X_train_std, y_train)\n",
    "\n",
    "# Évaluer sur le test set\n",
    "y_test_pred = lasso_best.predict(X_test_std)\n",
    "mse_test_lasso = mean_squared_error(y_test, y_test_pred)\n",
    "mae_test_lasso = mean_absolute_error(y_test, y_test_pred)\n",
    "\n",
    "print(f\"Test MSE (lasso, best λ): {mse_test_lasso:.4f}\")\n",
    "print(f\"Test MAE (lasso, best λ): {mae_test_lasso:.4f}\")\n"
   ]
  },
  {
   "cell_type": "markdown",
   "id": "927bca27-900a-4263-99f1-47dfedf6b962",
   "metadata": {},
   "source": [
    "<div style=\"background-color: rgba(255, 255, 0, 0.15); padding: 8px;\">\n",
    "Your answer here\n",
    "</div>"
   ]
  }
 ],
 "metadata": {
  "kernelspec": {
   "display_name": "venv",
   "language": "python",
   "name": "python3"
  },
  "language_info": {
   "codemirror_mode": {
    "name": "ipython",
    "version": 3
   },
   "file_extension": ".py",
   "mimetype": "text/x-python",
   "name": "python",
   "nbconvert_exporter": "python",
   "pygments_lexer": "ipython3",
   "version": "3.11.9"
  }
 },
 "nbformat": 4,
 "nbformat_minor": 5
}
